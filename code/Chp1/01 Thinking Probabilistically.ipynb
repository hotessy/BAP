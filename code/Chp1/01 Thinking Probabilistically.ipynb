{
 "cells": [
  {
   "cell_type": "code",
   "execution_count": 17,
   "metadata": {},
   "outputs": [],
   "source": [
    "import matplotlib.pyplot as plt\n",
    "import numpy as np\n",
    "import pandas as pd\n",
    "from scipy import stats\n",
    "import arviz as az\n",
    "\n",
    "from IPython.display import display\n",
    "from ipywidgets import interact, interactive, fixed, interact_manual\n",
    "import cufflinks as cf"
   ]
  },
  {
   "cell_type": "code",
   "execution_count": 18,
   "metadata": {},
   "outputs": [
    {
     "name": "stdout",
     "output_type": "stream",
     "text": [
      "The autoreload extension is already loaded. To reload it, use:\n",
      "  %reload_ext autoreload\n"
     ]
    }
   ],
   "source": [
    "%load_ext autoreload\n",
    "%autoreload 2"
   ]
  },
  {
   "cell_type": "code",
   "execution_count": 19,
   "metadata": {},
   "outputs": [],
   "source": [
    "az.style.use('arviz-darkgrid')\n",
    "cf.set_config_file(offline=False, theme='pearl')"
   ]
  },
  {
   "cell_type": "code",
   "execution_count": 20,
   "metadata": {},
   "outputs": [
    {
     "data": {
      "text/plain": [
       "array([0.45675173, 1.25938146, 0.06948455])"
      ]
     },
     "execution_count": 20,
     "metadata": {},
     "output_type": "execute_result"
    }
   ],
   "source": [
    "μ = 0.\n",
    "σ = 1.\n",
    "X = stats.norm(μ, σ)\n",
    "x = X.rvs(3)\n",
    "x"
   ]
  },
  {
   "cell_type": "code",
   "execution_count": 21,
   "metadata": {},
   "outputs": [],
   "source": [
    "# mu_params = [-1, 0, 1]\n",
    "# sd_params = [0.5, 1, 1.5]\n",
    "# x = np.linspace(-7, 7, 200)\n",
    "# _, ax = plt.subplots(len(mu_params), len(sd_params), sharex=True, sharey=True,\n",
    "#                      figsize=(9, 7), constrained_layout=True)\n",
    "# for i in range(3):\n",
    "#     for j in range(3):\n",
    "#         mu = mu_params[i]\n",
    "#         sd = sd_params[j]\n",
    "#         y = stats.norm(mu, sd).pdf(x)\n",
    "#         ax[i,j].plot(x, y)\n",
    "#         ax[i,j].plot([], label=\"μ = {:3.2f}\\nσ = {:3.2f}\".format(mu, sd), alpha=0)\n",
    "#         ax[i,j].legend(loc=1)\n",
    "# ax[2,1].set_xlabel('x')\n",
    "# ax[1,0].set_ylabel('p(x)', rotation=0, labelpad=20)\n",
    "# ax[1,0].set_yticks([])\n",
    "# # plt.savefig('B11197_01_01.png', dpi=300);\n",
    "# # plt.show()"
   ]
  },
  {
   "cell_type": "code",
   "execution_count": 23,
   "metadata": {},
   "outputs": [
    {
     "data": {
      "application/vnd.jupyter.widget-view+json": {
       "model_id": "18f89e88e3c448959b4b7306a565a823",
       "version_major": 2,
       "version_minor": 0
      },
      "text/plain": [
       "interactive(children=(FloatSlider(value=0.0, description='μ', max=5.0, step=0.5), FloatSlider(value=1.0, descr…"
      ]
     },
     "metadata": {},
     "output_type": "display_data"
    }
   ],
   "source": [
    "@interact(μ=(0.0, 5.0, 0.5), σ=(0.0, 5.0, 0.5))\n",
    "def plot_normal_dist(μ=0.0, σ=1.):\n",
    "    x = np.linspace(-7*(μ + 1), 7*(μ + 1), 200)\n",
    "    y = stats.norm(loc=μ, scale=σ).pdf(x)\n",
    "    fig = pd.DataFrame(data=y, index=x).iplot(kind='line', asFigure=True)\n",
    "    fig.show()"
   ]
  },
  {
   "cell_type": "code",
   "execution_count": 24,
   "metadata": {},
   "outputs": [],
   "source": [
    "# data = np.genfromtxt('../data/mauna_loa_CO2.csv', delimiter=',')\n",
    "# plt.plot(data[:,0], data[:,1])\n",
    "# plt.xlabel('year')\n",
    "# plt.ylabel('$CO_2$ (ppmv)')\n",
    "# plt.savefig('B11197_01_02.png', dpi=300)"
   ]
  },
  {
   "cell_type": "markdown",
   "metadata": {},
   "source": [
    "Probability of obtaining the outcome $A$ (with probability $p$), in $x$ out of $n$ trials.\n",
    "\n",
    "$$P(\\text{$A$ in $x$ out of $n$ trials}) = P(\\text{$x$ | $p$, $n$}) = {\\binom {n}{x}}p^{x}(1 - p)^{n-x}$$\n"
   ]
  },
  {
   "cell_type": "code",
   "execution_count": 25,
   "metadata": {},
   "outputs": [],
   "source": [
    "\n",
    "# ## Draw a single stacked bar chart plot with 3 bars\n",
    "\n",
    "# n_params = [1, 2, 4]  # Number of trials\n",
    "# p_params = [0.25, 0.5, 0.75]  # Probability of success\n",
    "\n",
    "# x = np.arange(0, max(n_params)+1)\n",
    "# f,ax = plt.subplots(len(n_params), len(p_params), sharex=True, sharey=True,\n",
    "#                     figsize=(8, 7), constrained_layout=True)\n",
    "\n",
    "# for i in range(len(n_params)):\n",
    "#     for j in range(len(p_params)):\n",
    "#         n = n_params[i]\n",
    "#         p = p_params[j]\n",
    "\n",
    "#         y = stats.binom(n=n, p=p).pmf(x)\n",
    "\n",
    "#         ax[i,j].vlines(x, 0, y, colors='C0', lw=5)\n",
    "#         ax[i,j].set_ylim(0, 1)\n",
    "#         ax[i,j].plot(0, 0, label=\"N = {:3.2f}\\nθ = {:3.2f}\".format(n,p), alpha=0)\n",
    "#         ax[i,j].legend()\n",
    "\n",
    "#         ax[2,1].set_xlabel('y')\n",
    "#         ax[1,0].set_ylabel('p(y | θ, N)')\n",
    "#         ax[0,0].set_xticks(x)\n",
    "# plt.savefig('B11197_01_03.png', dpi=300)"
   ]
  },
  {
   "cell_type": "code",
   "execution_count": 26,
   "metadata": {},
   "outputs": [
    {
     "data": {
      "application/vnd.jupyter.widget-view+json": {
       "model_id": "bd1a7eed29f54e63b0e6368975e996a5",
       "version_major": 2,
       "version_minor": 0
      },
      "text/plain": [
       "interactive(children=(FloatSlider(value=0.2, description='p', max=1.0), IntSlider(value=5, description='n', ma…"
      ]
     },
     "metadata": {},
     "output_type": "display_data"
    }
   ],
   "source": [
    "@interact(p=(0.0, 1.0, 0.1), n=(0, 20))\n",
    "def plot_binom_dist(p=0.2, n=5):\n",
    "    x = np.arange(0, n+1)\n",
    "    y = stats.binom(n=n, p=p).pmf(k=x)\n",
    "    fig = pd.DataFrame(data=y, index=x).iplot(kind='bar', asFigure=True)\n",
    "    fig.show()"
   ]
  },
  {
   "cell_type": "code",
   "execution_count": 27,
   "metadata": {},
   "outputs": [
    {
     "data": {
      "text/latex": [
       "\n",
       "\\begin{aligned}\n",
       "f(x | \\alpha ,\\beta ) = {\\frac {1}{\\mathrm {B} (\\alpha ,\\beta )}}x^{\\alpha -1}(1-x)^{\\beta -1}\n",
       "\\end{aligned}\n"
      ],
      "text/plain": [
       "<IPython.core.display.Latex object>"
      ]
     },
     "metadata": {},
     "output_type": "display_data"
    }
   ],
   "source": [
    "%%latex\n",
    "\n",
    "\\begin{aligned}\n",
    "f(x | \\alpha ,\\beta ) = {\\frac {1}{\\mathrm {B} (\\alpha ,\\beta )}}x^{\\alpha -1}(1-x)^{\\beta -1}\n",
    "\\end{aligned}"
   ]
  },
  {
   "cell_type": "code",
   "execution_count": 28,
   "metadata": {},
   "outputs": [],
   "source": [
    "# params = [0.5, 1, 2, 3]\n",
    "# x = np.linspace(0, 1, 100)\n",
    "# f, ax = plt.subplots(len(params), len(params), sharex=True, sharey=True,\n",
    "#                      figsize=(8, 7), constrained_layout=True)\n",
    "# for i in range(4):\n",
    "#     for j in range(4):\n",
    "#         a = params[i]\n",
    "#         b = params[j]\n",
    "#         y = stats.beta(a, b).pdf(x)\n",
    "#         ax[i,j].plot(x, y)\n",
    "#         ax[i,j].plot(0, 0, label=\"α = {:2.1f}\\nβ = {:2.1f}\".format(a, b), alpha=0)\n",
    "#         ax[i,j].legend()\n",
    "# ax[1,0].set_yticks([])\n",
    "# ax[1,0].set_xticks([0, 0.5, 1])\n",
    "# f.text(0.5, 0.05, 'θ', ha='center')\n",
    "# f.text(0.07, 0.5, 'p(θ)', va='center', rotation=0)\n",
    "# plt.savefig('B11197_01_04.png', dpi=300)"
   ]
  },
  {
   "cell_type": "code",
   "execution_count": 34,
   "metadata": {},
   "outputs": [
    {
     "data": {
      "application/vnd.jupyter.widget-view+json": {
       "model_id": "ecc60829476a4a8d8e427e456316dcf9",
       "version_major": 2,
       "version_minor": 0
      },
      "text/plain": [
       "interactive(children=(FloatSlider(value=0.0, description='α', max=1.0), FloatSlider(value=1.0, description='β'…"
      ]
     },
     "metadata": {},
     "output_type": "display_data"
    }
   ],
   "source": [
    "@interact(α=(0.0, 1.0, 0.1), β=(0.0, 1.0, 0.1))\n",
    "def plot_beta_dist(α=0.0, β=1.):\n",
    "    x = np.linspace(-0.1, 1.1, 100)\n",
    "    y = stats.beta(a=α, b=β).pdf(x)\n",
    "    fig = pd.DataFrame(data=y, index=x).iplot(kind='line', asFigure=True)\n",
    "    fig.show()"
   ]
  },
  {
   "cell_type": "code",
   "execution_count": 30,
   "metadata": {},
   "outputs": [],
   "source": [
    "# plt.figure(figsize=(10, 8))\n",
    "\n",
    "# n_trials = [0, 1, 2, 3, 4, 8, 16, 32, 50, 150]\n",
    "# data = [0, 1, 1, 1, 1, 4, 6, 9, 13, 48]\n",
    "# theta_real = 0.35\n",
    "\n",
    "# beta_params = [(1, 1), (20, 20), (1, 4)]\n",
    "# dist = stats.beta\n",
    "# x = np.linspace(0, 1, 200)\n",
    "\n",
    "# for idx, N in enumerate(n_trials):\n",
    "#     if idx == 0:\n",
    "#         plt.subplot(4, 3, 2)\n",
    "#         plt.xlabel('θ')\n",
    "#     else:\n",
    "#         plt.subplot(4, 3, idx+3)\n",
    "#         plt.xticks([])\n",
    "#     y = data[idx]\n",
    "#     for (a_prior, b_prior) in beta_params:\n",
    "#         p_theta_given_y = dist.pdf(x, a_prior + y, b_prior + N - y)\n",
    "#         plt.fill_between(x, 0, p_theta_given_y, alpha=0.7)\n",
    "\n",
    "#     plt.axvline(theta_real, ymax=0.3, color='k')\n",
    "#     plt.plot(0, 0, label=f'{N:4d} trials\\n{y:4d} heads', alpha=0)\n",
    "#     plt.xlim(0, 1)\n",
    "#     plt.ylim(0, 12)\n",
    "#     plt.legend()\n",
    "#     plt.yticks([])\n",
    "# plt.tight_layout()\n",
    "# plt.savefig('B11197_01_05.png', dpi=300)"
   ]
  },
  {
   "cell_type": "markdown",
   "metadata": {},
   "source": [
    " <img src=\"B11197_01_06.png\" width=\"500\">"
   ]
  },
  {
   "cell_type": "code",
   "execution_count": 32,
   "metadata": {
    "scrolled": true
   },
   "outputs": [
    {
     "data": {
      "image/png": "[encoded data removed]",
      "text/plain": [
       "<Figure size 720x480 with 1 Axes>"
      ]
     },
     "metadata": {},
     "output_type": "display_data"
    }
   ],
   "source": [
    "np.random.seed(1)\n",
    "az.plot_posterior({'θ':stats.beta.rvs(5, 11, size=1000)});\n",
    "# plt.savefig('B11197_01_07.png', dpi=300)"
   ]
  },
  {
   "cell_type": "code",
   "execution_count": null,
   "metadata": {},
   "outputs": [],
   "source": []
  },
  {
   "cell_type": "markdown",
   "metadata": {},
   "source": [
    "<img src=\"B11197_01_08.png\" width=\"500\">"
   ]
  },
  {
   "cell_type": "code",
   "execution_count": null,
   "metadata": {},
   "outputs": [],
   "source": []
  }
 ],
 "metadata": {
  "kernelspec": {
   "display_name": "Python 3",
   "language": "python",
   "name": "python3"
  },
  "language_info": {
   "codemirror_mode": {
    "name": "ipython",
    "version": 3
   },
   "file_extension": ".py",
   "mimetype": "text/x-python",
   "name": "python",
   "nbconvert_exporter": "python",
   "pygments_lexer": "ipython3",
   "version": "3.7.6"
  },
  "toc": {
   "base_numbering": 1,
   "nav_menu": {},
   "number_sections": true,
   "sideBar": true,
   "skip_h1_title": false,
   "title_cell": "Table of Contents",
   "title_sidebar": "Contents",
   "toc_cell": false,
   "toc_position": {},
   "toc_section_display": true,
   "toc_window_display": false
  },
  "varInspector": {
   "cols": {
    "lenName": 16,
    "lenType": 16,
    "lenVar": 40
   },
   "kernels_config": {
    "python": {
     "delete_cmd_postfix": "",
     "delete_cmd_prefix": "del ",
     "library": "var_list.py",
     "varRefreshCmd": "print(var_dic_list())"
    },
    "r": {
     "delete_cmd_postfix": ") ",
     "delete_cmd_prefix": "rm(",
     "library": "var_list.r",
     "varRefreshCmd": "cat(var_dic_list()) "
    }
   },
   "types_to_exclude": [
    "module",
    "function",
    "builtin_function_or_method",
    "instance",
    "_Feature"
   ],
   "window_display": false
  }
 },
 "nbformat": 4,
 "nbformat_minor": 4
}
